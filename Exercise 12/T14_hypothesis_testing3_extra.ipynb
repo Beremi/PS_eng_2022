{
 "cells": [
  {
   "cell_type": "markdown",
   "id": "looking-extra",
   "metadata": {},
   "source": [
    "# Exercise 12. Multiselective tests - Extra for those interested \n",
    "## Michal Béreš\n",
    " \n"
   ]
  },
  {
   "cell_type": "markdown",
   "id": "speaking-burning",
   "metadata": {},
   "source": [
    "## We load test data and produce post-hoc + effects for ANOVA and KW test\n",
    " \n"
   ]
  },
  {
   "cell_type": "code",
   "execution_count": null,
   "id": "saving-technology",
   "metadata": {},
   "outputs": [],
   "source": [
    "data = readxl::read_excel(\"data/snehurka.xlsx\")\n",
    "# data is in standard data format\n"
   ]
  },
  {
   "cell_type": "code",
   "execution_count": null,
   "id": "entertaining-midwest",
   "metadata": {},
   "outputs": [],
   "source": [
    "# POST-HOC ANOVA\n",
    "vysledky = aov(data$hodnota ~ data$typ) \n",
    "PH.ANOVA = TukeyHSD(vysledky)[[1]]\n",
    "PH.ANOVA"
   ]
  },
  {
   "cell_type": "code",
   "execution_count": null,
   "id": "figured-silver",
   "metadata": {},
   "outputs": [],
   "source": [
    "# ANOVA effects calculation\n",
    "library(dplyr)\n",
    "\n",
    "# overall average\n",
    "prumer_vsech = mean(data$hodnota)\n",
    "\n",
    "# averages in groups\n",
    "efekty = data %>% group_by(typ) %>% \n",
    "    summarize(mean_skup = mean(hodnota))\n",
    "\n",
    "# effects\n",
    "efekty$efekt = efekty$mean_skup - prumer_vsech\n",
    "\n",
    "# list sorted\n",
    "efekty.ANOVA = efekty %>% arrange(desc(efekt))\n",
    "efekty.ANOVA"
   ]
  },
  {
   "cell_type": "code",
   "execution_count": null,
   "id": "cathedral-hello",
   "metadata": {},
   "outputs": [],
   "source": [
    "# POST-HOC KW\n",
    "# post hoc - another function with an output that suits us better\n",
    "# numerically corresponds to that used for the exercise\n",
    "\n",
    "# install.packages(\"FSA\")\n",
    "result = FSA::dunnTest(data$hodnota ~ data$typ,   # FSA library\n",
    "              method=\"bonferroni\")\n",
    "PH.KW = result$res\n",
    "PH.KW"
   ]
  },
  {
   "cell_type": "code",
   "execution_count": null,
   "id": "statutory-costa",
   "metadata": {},
   "outputs": [],
   "source": [
    "# KW effect calculation\n",
    "library(dplyr)\n",
    "\n",
    "# overall average\n",
    "prumer_vsech = median(data$hodnota)\n",
    "\n",
    "# group averages\n",
    "efekty = data %>% group_by(typ) %>% \n",
    "    summarize(mean_skup = median(hodnota))\n",
    "\n",
    "# effects\n",
    "efekty$efekt = efekty$mean_skup - prumer_vsech\n",
    "\n",
    "# list sorted\n",
    "efekty.KW = efekty %>% arrange(desc(efekt))\n",
    "efekty.KW"
   ]
  },
  {
   "cell_type": "markdown",
   "id": "polyphonic-sight",
   "metadata": {},
   "source": [
    "# For those interested(optional) - creation of a sorted table of p-values/letter scheme automatically\n",
    " \n"
   ]
  },
  {
   "cell_type": "code",
   "execution_count": null,
   "id": "knowing-system",
   "metadata": {},
   "outputs": [],
   "source": [
    "# install.packages(\"strings\")\n",
    "# this is a text search library\n",
    "# we'll look for smurf names in paired post-hoc tests\n",
    "\n",
    "# we initialize the matrix(for a nice result as a text)\n",
    "# 7x7 because we have 7 smurfs\n",
    "POST.HOC.Phodnoty = matrix(rep(\"-\", len = 7*7), nrow = 7, ncol = 7)\n",
    "# we name its columns and rows according to the sorted smudges\n",
    "colnames(POST.HOC.Phodnoty) = efekty.ANOVA$typ\n",
    "rownames(POST.HOC.Phodnoty) = efekty.ANOVA$typ\n",
    "POST.HOC.Phodnoty"
   ]
  },
  {
   "cell_type": "code",
   "execution_count": null,
   "id": "driving-armenia",
   "metadata": {},
   "outputs": [],
   "source": [
    "# loop through all tests in post-hoc(over column names)\n",
    "for(pair.test in rownames(PH.ANOVA)){\n",
    "    # Which dwarves are present in this paired test?\n",
    "    trp.truefalse = stringi::stri_detect_fixed(pair.test, efekty.ANOVA$typ)\n",
    "    # what are the indices of these dwarves\n",
    "    # indexes for writing to the matrix - always 2 values\n",
    "    indexy.trp = which(trp.truefalse) \n",
    "    # I write to the matrix(the first index is smaller ->automatically to\n",
    "    # upper triangle)\n",
    "    POST.HOC.Phodnoty[indexy.trp[1], indexy.trp[2]] = \n",
    "        round(max(PH.ANOVA[pair.test, 'p adj'], 0.001), digits = 3)\n",
    "    # we write text(if the matrix is text, the numbers are automatically\n",
    "    # convert to text), values to thousands\n",
    "}\n",
    "POST.HOC.Phodnoty"
   ]
  },
  {
   "cell_type": "markdown",
   "id": "initial-chosen",
   "metadata": {},
   "source": [
    "### Functions for automated sign scheme(handwritten and from package)\n",
    " \n",
    "#### Handwritten functions(what we would do on paper)\n",
    " \n"
   ]
  },
  {
   "cell_type": "code",
   "execution_count": null,
   "id": "tribal-dairy",
   "metadata": {},
   "outputs": [],
   "source": [
    "# table of p-values\n",
    "\n",
    "tabulka.phodnot = function(setrizene.typy, parove.testy.nazvy, \n",
    "                           parove.testy.phodnoty){\n",
    "    # number of groups\n",
    "    n = length(setrizene.typy)\n",
    "    POST.HOC.Phodnoty = matrix(rep(0, len = n*n), nrow = n, ncol = n)\n",
    "    # we name its columns and rows according to sorted types\n",
    "    colnames(POST.HOC.Phodnoty) = setrizene.typy\n",
    "    rownames(POST.HOC.Phodnoty) = setrizene.typy\n",
    "    \n",
    "    # loop through all tests in post-hoc(over column names)\n",
    "    for(i in 1:length(parove.testy.nazvy)){\n",
    "        pair.test = parove.testy.nazvy[i]\n",
    "        # Which dwarves are present in this paired test?\n",
    "        typ.truefalse = stringi::stri_detect_fixed(pair.test, setrizene.typy)\n",
    "        # what are the indices of these dwarves\n",
    "        # indexes for writing to the matrix - always 2 values\n",
    "        indexy.typ = which(typ.truefalse) \n",
    "        # I write to the matrix(the first index is smaller ->automatically to\n",
    "        # upper triangle)\n",
    "        POST.HOC.Phodnoty[indexy.typ[1], indexy.typ[2]] = \n",
    "            parove.testy.phodnoty[i]\n",
    "    }\n",
    "    return(POST.HOC.Phodnoty)  \n",
    "}"
   ]
  },
  {
   "cell_type": "code",
   "execution_count": null,
   "id": "cellular-density",
   "metadata": {},
   "outputs": [],
   "source": [
    "# letter diagram from the table\n",
    "\n",
    "pismenkove.schema = function(POST.HOC.Phodnoty, alpha){\n",
    "    # how big is the matrix\n",
    "    n = nrow(POST.HOC.Phodnoty)\n",
    "    # matrix initialization\n",
    "    pis.schema = matrix(rep(0, len = n*n), nrow = n, ncol = n)\n",
    "    # line names - copy from input\n",
    "    rownames(pis.schema) = rownames(POST.HOC.Phodnoty)\n",
    "    # set the diagonal to 1 - is in the given group\n",
    "    diag(pis.schema) = 1\n",
    "    \n",
    "    # cycle through all columns where we can fill something\n",
    "    for(i in 1:(n-1)){\n",
    "        # cycle through all the rows in the column where we follow the gallop\n",
    "        for(j in (i+1):n){\n",
    "            # if pval>alpha then we add to hom. groups\n",
    "            pis.schema[j, i] = POST.HOC.Phodnoty[i,j]>alpha\n",
    "        }\n",
    "    }\n",
    "    return(pis.schema)\n",
    "}"
   ]
  },
  {
   "cell_type": "markdown",
   "id": "capital-cliff",
   "metadata": {},
   "source": [
    "#### How to use handwritten functions for ANOVA and KW test?\n",
    " \n"
   ]
  },
  {
   "cell_type": "code",
   "execution_count": null,
   "id": "spread-repository",
   "metadata": {},
   "outputs": [],
   "source": [
    "# How to do it from POST-HOC ANOVA:\n",
    "\n",
    "# we produce input data\n",
    "setrizene.typy = efekty.ANOVA$typ\n",
    "parove.testy.nazvy = rownames(PH.ANOVA)\n",
    "parove.testy.phodnoty = PH.ANOVA[,'p adj']\n",
    "\n",
    "# we produce a sorted phodnot table\n",
    "p.val.tab = tabulka.phodnot(setrizene.typy, parove.testy.nazvy, \n",
    "                            parove.testy.phodnoty)\n",
    "# draw rounded to thousands\n",
    "round(p.val.tab, digits = 3)\n",
    "\n",
    "# we make a letter scheme from the phodnot table\n",
    "pis.schema = pismenkove.schema(p.val.tab, 0.05)\n",
    "pis.schema"
   ]
  },
  {
   "cell_type": "code",
   "execution_count": null,
   "id": "proud-valuable",
   "metadata": {},
   "outputs": [],
   "source": [
    "# How to do it from POST-HOC KW:\n",
    "\n",
    "# we produce input data\n",
    "setrizene.typy = efekty.KW$typ\n",
    "parove.testy.nazvy = PH.KW$Comparison\n",
    "parove.testy.phodnoty = PH.KW$P.adj\n",
    "\n",
    "# we produce a sorted phodnot table\n",
    "p.val.tab = tabulka.phodnot(setrizene.typy, parove.testy.nazvy, \n",
    "                            parove.testy.phodnoty)\n",
    "# draw rounded to thousands\n",
    "round(p.val.tab, digits = 3)\n",
    "\n",
    "# we make a letter diagram from the phodnot table\n",
    "pis.schema = pismenkove.schema(p.val.tab, 0.05)\n",
    "pis.schema"
   ]
  },
  {
   "cell_type": "markdown",
   "id": "tight-associate",
   "metadata": {},
   "source": [
    "## Letter scheme using the built-in Rk function\n",
    " \n",
    "rcompanion package, cldList function\n",
    " \n"
   ]
  },
  {
   "cell_type": "code",
   "execution_count": null,
   "id": "false-tucson",
   "metadata": {},
   "outputs": [],
   "source": [
    "# in case of ANOVA\n",
    "\n",
    "# first we make a dataframe with columns of pairs and phodnot\n",
    "input = data.frame(dvojice = rownames(PH.ANOVA), \n",
    "                   pval = PH.ANOVA[,'p adj'])\n",
    "\n",
    "# letter scheme, library rcompanion\n",
    "# install.packages(\"rcompanion\")\n",
    "rcompanion::cldList(pval ~ dvojice, \n",
    "        data = input,\n",
    "        threshold = 0.05)"
   ]
  },
  {
   "cell_type": "code",
   "execution_count": null,
   "id": "functioning-idaho",
   "metadata": {},
   "outputs": [],
   "source": [
    "# in the case of KW\n",
    "\n",
    "# first we make a dataframe with columns of pairs and phodnot\n",
    "input = data.frame(dvojice = PH.KW$Comparison, \n",
    "                   pval = PH.KW$P.adj)\n",
    "\n",
    "# letter scheme, library rcompanion\n",
    "# install.packages(\"rcompanion\")\n",
    "rcompanion::cldList(pval ~ dvojice, \n",
    "        data = input,\n",
    "        threshold = 0.05)"
   ]
  },
  {
   "cell_type": "code",
   "execution_count": null,
   "id": "interim-meditation",
   "metadata": {},
   "outputs": [],
   "source": []
  }
 ],
 "metadata": {
  "kernelspec": {
   "display_name": "R",
   "language": "R",
   "name": "ir"
  },
  "language_info": {
   "codemirror_mode": "r",
   "file_extension": ".r",
   "mimetype": "text/x-r-source",
   "name": "R",
   "pygments_lexer": "r",
   "version": "4.1.2"
  }
 },
 "nbformat": 4,
 "nbformat_minor": 5
}
